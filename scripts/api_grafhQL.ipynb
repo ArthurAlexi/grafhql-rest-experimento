{
 "cells": [
  {
   "cell_type": "code",
   "execution_count": 1,
   "metadata": {},
   "outputs": [],
   "source": [
    "import requests as req\n",
    "import pandas as pd\n",
    "import json\n",
    "import time"
   ]
  },
  {
   "cell_type": "markdown",
   "metadata": {},
   "source": [
    "# Utils"
   ]
  },
  {
   "cell_type": "markdown",
   "metadata": {},
   "source": [
    "## Consts"
   ]
  },
  {
   "cell_type": "code",
   "execution_count": null,
   "metadata": {},
   "outputs": [],
   "source": [
    "GITHUB_GRAPHQL_URL  = 'https://api.github.com/graphql'\n",
    "TOKEN = ''\n",
    "HEADERS = {\n",
    "  'Authorization': f'bearer {TOKEN}',\n",
    "  'Content-Type': 'application/json'\n",
    "}"
   ]
  },
  {
   "cell_type": "markdown",
   "metadata": {},
   "source": [
    "## Functions"
   ]
  },
  {
   "cell_type": "code",
   "execution_count": null,
   "metadata": {},
   "outputs": [],
   "source": [
    "def measure_graphql(data : json)-> json:\n",
    "    start_time = time.time()\n",
    "    response = req.post(GITHUB_GRAPHQL_URL, headers=HEADERS, json=data)\n",
    "    end_time = time.time()\n",
    "    if response.status_code == 200:\n",
    "        return end_time - start_time, len(response.content)\n",
    "\n",
    "    raise Exception(f'Erro ao fazer requisição: {response.status_code} \\n {response.text}')"
   ]
  },
  {
   "cell_type": "markdown",
   "metadata": {},
   "source": [
    "## Queries"
   ]
  },
  {
   "cell_type": "code",
   "execution_count": null,
   "metadata": {},
   "outputs": [],
   "source": [
    "query_1 = '''\n",
    "\n",
    "'''\n",
    "\n",
    "query_2 = '''\n",
    "\n",
    "'''\n",
    "\n",
    "query_3 = '''\n",
    "\n",
    "'''"
   ]
  },
  {
   "cell_type": "markdown",
   "metadata": {},
   "source": [
    "# experiment"
   ]
  },
  {
   "cell_type": "code",
   "execution_count": null,
   "metadata": {},
   "outputs": [],
   "source": [
    "data = []\n",
    "for _ in range(10):\n",
    "    graphql_time, graphql_size = measure_graphql(data={'query': query_1})\n",
    "    data.append({\n",
    "        'type_query': '1',\n",
    "        'graphql_time': graphql_time,\n",
    "        'graphql_size': graphql_size,\n",
    "    })\n",
    "\n",
    "for _ in range(10):\n",
    "    graphql_time, graphql_size = measure_graphql(data={'query': query_2})\n",
    "    data.append({\n",
    "        'type_query': '2',\n",
    "        'graphql_time': graphql_time,\n",
    "        'graphql_size': graphql_size,\n",
    "    })\n",
    "\n",
    "for _ in range(10):\n",
    "    graphql_time, graphql_size = measure_graphql(data={'query': query_3})\n",
    "    data.append({\n",
    "        'type_query': '3',\n",
    "        'graphql_time': graphql_time,\n",
    "        'graphql_size': graphql_size,\n",
    "    })\n",
    "    \n",
    "df = pd.DataFrame(data)\n",
    "df.to_csv('api_comparison_results.csv', index=False)"
   ]
  }
 ],
 "metadata": {
  "kernelspec": {
   "display_name": ".venv",
   "language": "python",
   "name": "python3"
  },
  "language_info": {
   "codemirror_mode": {
    "name": "ipython",
    "version": 3
   },
   "file_extension": ".py",
   "mimetype": "text/x-python",
   "name": "python",
   "nbconvert_exporter": "python",
   "pygments_lexer": "ipython3",
   "version": "3.12.3"
  }
 },
 "nbformat": 4,
 "nbformat_minor": 2
}
