{
 "cells": [
  {
   "cell_type": "code",
   "execution_count": 6,
   "metadata": {},
   "outputs": [],
   "source": [
    "import requests as req\n",
    "import pandas as pd\n",
    "import json\n",
    "import time"
   ]
  },
  {
   "cell_type": "markdown",
   "metadata": {},
   "source": [
    "# Utils"
   ]
  },
  {
   "cell_type": "markdown",
   "metadata": {},
   "source": [
    "## Consts"
   ]
  },
  {
   "cell_type": "code",
   "execution_count": 7,
   "metadata": {},
   "outputs": [],
   "source": [
    "GITHUB_REST_URL = 'https://api.github.com/'\n",
    "TOKEN = ''\n",
    "HEADERS = {\n",
    "  'Authorization': f'bearer {TOKEN}',\n",
    "}"
   ]
  },
  {
   "cell_type": "markdown",
   "metadata": {},
   "source": [
    "# Functions"
   ]
  },
  {
   "cell_type": "code",
   "execution_count": 8,
   "metadata": {},
   "outputs": [],
   "source": [
    "def measure_rest(path: str):\n",
    "    rest_endpoint = GITHUB_REST_URL + path\n",
    "    start_time = time.time()\n",
    "    response = req.get(rest_endpoint, headers=HEADERS)\n",
    "    end_time = time.time()\n",
    "    if response.status_code == 200:\n",
    "        return end_time - start_time, len(response.content)\n",
    "    \n",
    "    raise Exception(f'Erro ao fazer requisição: {response.status_code} \\n {response.text}')"
   ]
  },
  {
   "cell_type": "markdown",
   "metadata": {},
   "source": [
    "## Paths"
   ]
  },
  {
   "cell_type": "code",
   "execution_count": 9,
   "metadata": {},
   "outputs": [],
   "source": [
    "path_1 = 'users/Netflix/repos?per_page=5'\n",
    "path_2 = 'repos/Netflix/Hystrix/issues?state=open&per_page=5'\n",
    "path_3 = 'repos/Netflix/Hystrix/pulls?per_page=5'"
   ]
  },
  {
   "cell_type": "markdown",
   "metadata": {},
   "source": [
    "# experiment"
   ]
  },
  {
   "cell_type": "code",
   "execution_count": 10,
   "metadata": {},
   "outputs": [],
   "source": [
    "data = []\n",
    "for _ in range(10):\n",
    "    graphql_time, graphql_size = measure_rest(path_1)\n",
    "    data.append({\n",
    "        'type_query': '1',\n",
    "        'graphql_time': graphql_time,\n",
    "        'graphql_size': graphql_size,\n",
    "    })\n",
    "\n",
    "for _ in range(10):\n",
    "    graphql_time, graphql_size = measure_rest(path_2)\n",
    "    data.append({\n",
    "        'type_query': '2',\n",
    "        'graphql_time': graphql_time,\n",
    "        'graphql_size': graphql_size,\n",
    "    })\n",
    "\n",
    "for _ in range(10):\n",
    "    graphql_time, graphql_size = measure_rest(path_3)\n",
    "    data.append({\n",
    "        'type_query': '3',\n",
    "        'graphql_time': graphql_time,\n",
    "        'graphql_size': graphql_size,\n",
    "    })\n",
    "    \n",
    "df = pd.DataFrame(data)\n",
    "df.to_csv('api_rest_results.csv', index=False)"
   ]
  }
 ],
 "metadata": {
  "kernelspec": {
   "display_name": ".venv",
   "language": "python",
   "name": "python3"
  },
  "language_info": {
   "codemirror_mode": {
    "name": "ipython",
    "version": 3
   },
   "file_extension": ".py",
   "mimetype": "text/x-python",
   "name": "python",
   "nbconvert_exporter": "python",
   "pygments_lexer": "ipython3",
   "version": "3.12.3"
  }
 },
 "nbformat": 4,
 "nbformat_minor": 2
}
