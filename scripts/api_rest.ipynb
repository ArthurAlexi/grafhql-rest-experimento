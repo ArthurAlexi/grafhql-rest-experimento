{
 "cells": [
  {
   "cell_type": "code",
   "execution_count": 1,
   "metadata": {},
   "outputs": [],
   "source": [
    "import requests as req\n",
    "import pandas as pd\n",
    "import json\n",
    "import time"
   ]
  },
  {
   "cell_type": "markdown",
   "metadata": {},
   "source": [
    "# Utils"
   ]
  },
  {
   "cell_type": "markdown",
   "metadata": {},
   "source": [
    "## Consts"
   ]
  },
  {
   "cell_type": "code",
   "execution_count": 3,
   "metadata": {},
   "outputs": [],
   "source": [
    "GITHUB_REST_URL = 'https://api.github.com/'\n",
    "TOKEN = ''\n",
    "HEADERS = {\n",
    "  'Authorization': f'bearer {TOKEN}',\n",
    "}"
   ]
  },
  {
   "cell_type": "markdown",
   "metadata": {},
   "source": [
    "# Functions"
   ]
  },
  {
   "cell_type": "code",
   "execution_count": 21,
   "metadata": {},
   "outputs": [],
   "source": [
    "def measure_rest(path: str):\n",
    "    rest_endpoint = GITHUB_REST_URL + path\n",
    "    start_time = time.time()\n",
    "    response = req.get(rest_endpoint, headers=HEADERS)\n",
    "    end_time = time.time()\n",
    "    if response.status_code == 200:\n",
    "        return end_time - start_time, len(response.content)\n",
    "    \n",
    "    raise Exception(f'Erro ao fazer requisição: {response.status_code} \\n {response.text}\\n {path}')\n",
    "\n",
    "\n",
    "def super_measure_rest(owner: str, repo: str):\n",
    "    start_time = time.time()\n",
    "    response = req.get(f'{GITHUB_REST_URL}repos/{owner}/{repo}/pulls?state=all&per_page=5', headers=HEADERS)\n",
    "    time2, size = get_pull_request_details(owner, repo, response)\n",
    "    end_time = time.time()\n",
    "    if response.status_code == 200:\n",
    "        return end_time - start_time + time2, size + len(response.content)\n",
    "    \n",
    "    raise Exception(f'Erro ao fazer requisição: {response.status_code} \\n {response.text}\\n ')\n",
    "\n",
    "\n",
    "\n",
    "def get_pull_request_details(owner, repo, pull_requests):\n",
    "    time_maluco_2, time_maluco_3, time_maluco_4, time_maluco_5, time_maluco_6 = 0, 0, 0, 0, 0\n",
    "    size_maluco_2, size_maluco_3, size_maluco_4, size_maluco_5, size_maluco_6 = 0, 0, 0, 0, 0\n",
    "    owner = 'Netflix'\n",
    "    repo = 'Hystrix'\n",
    "    if pull_requests:\n",
    "        pull_requests = pull_requests.json()\n",
    "        for pr in pull_requests:\n",
    "            pr_number = pr['number']\n",
    "            time_maluco_2, size_maluco_2 = measure_rest(f'repos/{owner}/{repo}/pulls/{pr_number}')\n",
    "            time_maluco_3, size_maluco_3 = measure_rest(f'repos/{owner}/{repo}/pulls/{pr_number}/commits')\n",
    "            time_maluco_4, size_maluco_4 = measure_rest(f'repos/{owner}/{repo}/pulls/{pr_number}/files')\n",
    "            time_maluco_5, size_maluco_5 = measure_rest(f'repos/{owner}/{repo}/issues/{pr_number}/comments')\n",
    "            time_maluco_6, size_maluco_6 = measure_rest(f'repos/{owner}/{repo}/pulls/{pr_number}/reviews')\n",
    "\n",
    "    \n",
    "    return (time_maluco_2 + time_maluco_3 + time_maluco_4 + time_maluco_5 + time_maluco_6), (size_maluco_2 + size_maluco_3 + size_maluco_4 + size_maluco_5 + size_maluco_6)"
   ]
  },
  {
   "cell_type": "markdown",
   "metadata": {},
   "source": [
    "## Paths"
   ]
  },
  {
   "cell_type": "code",
   "execution_count": 5,
   "metadata": {},
   "outputs": [],
   "source": [
    "path_1 = 'users/Netflix/repos?per_page=5'\n",
    "path_2 = 'repos/Netflix/Hystrix/issues?state=open&per_page=5'\n",
    "path_3 = 'repos/Netflix/Hystrix/pulls?per_page=5'"
   ]
  },
  {
   "cell_type": "markdown",
   "metadata": {},
   "source": [
    "# Experiment"
   ]
  },
  {
   "cell_type": "code",
   "execution_count": 22,
   "metadata": {},
   "outputs": [],
   "source": [
    "data = []\n",
    "for _ in range(10):\n",
    "    rest_time, rest_size = measure_rest(path_1)\n",
    "    data.append({\n",
    "        'type_query': '1',\n",
    "        'rest_time': rest_time,\n",
    "        'rest_size': rest_size,\n",
    "    })\n",
    "\n",
    "for _ in range(10):\n",
    "    rest_time, rest_size = measure_rest(path_2)\n",
    "    data.append({\n",
    "        'type_query': '2',\n",
    "        'rest_time': rest_time,\n",
    "        'rest_size': rest_size,\n",
    "    })\n",
    "\n",
    "for _ in range(10):\n",
    "    rest_time, rest_size = measure_rest(path_3)\n",
    "    data.append({\n",
    "        'type_query': '3',\n",
    "        'rest_time': rest_time,\n",
    "        'rest_size': rest_size,\n",
    "    })\n",
    "\n",
    "for _ in range(10):\n",
    "    rest_time, rest_size = super_measure_rest('Netflix', 'Hystrix')\n",
    "    data.append({\n",
    "        'type_query': '4',\n",
    "        'rest_time': rest_time,\n",
    "        'rest_size': rest_size,\n",
    "    })\n",
    "    \n",
    "df = pd.DataFrame(data)\n",
    "df.to_csv('api_rest_results.csv', index=False)"
   ]
  }
 ],
 "metadata": {
  "kernelspec": {
   "display_name": ".venv",
   "language": "python",
   "name": "python3"
  },
  "language_info": {
   "codemirror_mode": {
    "name": "ipython",
    "version": 3
   },
   "file_extension": ".py",
   "mimetype": "text/x-python",
   "name": "python",
   "nbconvert_exporter": "python",
   "pygments_lexer": "ipython3",
   "version": "3.11.9"
  }
 },
 "nbformat": 4,
 "nbformat_minor": 2
}
